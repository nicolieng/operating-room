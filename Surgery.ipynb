{
 "cells": [
  {
   "cell_type": "markdown",
   "id": "5c559627",
   "metadata": {},
   "source": [
    "# Outline : \n",
    "Understand the business ask, the result of this project should highlight:\n",
    "\n",
    "    1. the value driven by iSurgery \n",
    "    2. opportunities to increase adoption across hospital locations\n",
    "\n",
    "for a customer who had recently go-live with iSurgery \n",
    "\n",
    "# Background :\n",
    "    iSurgery is a software product which helps free up capacity in operations rooms and create a more transparent and surgeon-centric provess for measuring Operating Room utilization.\n",
    " \n",
    "# Procedure:\n",
    "    1. Import data\n",
    "    2. EDA \n",
    "    3. Assumptions \n",
    "    4. Metrics definition \n",
    "    5. Data preprocessing \n",
    "    6. Metrics calculation (for bullet 1)\n",
    "    7. Cohort analysis (for bullet 2)\n",
    "    8. Result and summary\n",
    "    9. Improvement and next steps\n",
    "    10. Limitations\n"
   ]
  },
  {
   "cell_type": "markdown",
   "id": "4d4c74f2",
   "metadata": {},
   "source": [
    "## Importing data and EDA "
   ]
  },
  {
   "cell_type": "markdown",
   "id": "797169a8",
   "metadata": {},
   "source": [
    "Libraries and settings"
   ]
  },
  {
   "cell_type": "code",
   "execution_count": 7,
   "id": "3e2b66e4",
   "metadata": {},
   "outputs": [],
   "source": [
    "import sqlite3\n",
    "import pandas as pd\n",
    "\n",
    "# for exporting .db to csv, then to feed into Tableau for visualizations\n",
    "conn = sqlite3.connect(\"TestDB.db\")\n",
    "# Only run once\n",
    "# db_df = pd.read_sql_query(\"SELECT * FROM exchange_transactions\", conn)\n",
    "# db_df.to_csv('exchange_transactions.csv', index=False)"
   ]
  },
  {
   "cell_type": "code",
   "execution_count": 2,
   "id": "114f716b",
   "metadata": {},
   "outputs": [],
   "source": [
    "%load_ext sql\n",
    "%sql sqlite:///TestDB.db"
   ]
  },
  {
   "cell_type": "markdown",
   "id": "6a3029a9",
   "metadata": {},
   "source": [
    "EDA"
   ]
  },
  {
   "cell_type": "code",
   "execution_count": 122,
   "id": "136d4ded",
   "metadata": {},
   "outputs": [
    {
     "name": "stdout",
     "output_type": "stream",
     "text": [
      " * sqlite:///LeanTaaSTestDB.db\n",
      "Done.\n"
     ]
    },
    {
     "data": {
      "text/html": [
       "<table>\n",
       "    <tr>\n",
       "        <th>min(created_datetime)</th>\n",
       "        <th>max(created_datetime)</th>\n",
       "        <th>min(snapshot_date)</th>\n",
       "        <th>max(snapshot_date)</th>\n",
       "    </tr>\n",
       "    <tr>\n",
       "        <td>2019-01-14 08:32:01.000000</td>\n",
       "        <td>2019-08-27 11:33:52.000000</td>\n",
       "        <td>2019-06-03 00:00:00.000000</td>\n",
       "        <td>2019-08-30 00:00:00.000000</td>\n",
       "    </tr>\n",
       "</table>"
      ],
      "text/plain": [
       "[('2019-01-14 08:32:01.000000', '2019-08-27 11:33:52.000000', '2019-06-03 00:00:00.000000', '2019-08-30 00:00:00.000000')]"
      ]
     },
     "execution_count": 122,
     "metadata": {},
     "output_type": "execute_result"
    }
   ],
   "source": [
    "%%sql \n",
    "\n",
    "select min(created_datetime), max(created_datetime), min(snapshot_date), max(snapshot_date) \n",
    "FROM exchange_transactions"
   ]
  },
  {
   "cell_type": "code",
   "execution_count": 146,
   "id": "4d655a09",
   "metadata": {},
   "outputs": [
    {
     "name": "stdout",
     "output_type": "stream",
     "text": [
      " * sqlite:///LeanTaaSTestDB.db\n",
      "Done.\n"
     ]
    },
    {
     "data": {
      "text/html": [
       "<table>\n",
       "    <tr>\n",
       "        <th>month</th>\n",
       "        <th>total_transactions</th>\n",
       "    </tr>\n",
       "    <tr>\n",
       "        <td>01</td>\n",
       "        <td>62</td>\n",
       "    </tr>\n",
       "    <tr>\n",
       "        <td>02</td>\n",
       "        <td>151</td>\n",
       "    </tr>\n",
       "    <tr>\n",
       "        <td>03</td>\n",
       "        <td>212</td>\n",
       "    </tr>\n",
       "    <tr>\n",
       "        <td>04</td>\n",
       "        <td>589</td>\n",
       "    </tr>\n",
       "    <tr>\n",
       "        <td>05</td>\n",
       "        <td>1438</td>\n",
       "    </tr>\n",
       "    <tr>\n",
       "        <td>06</td>\n",
       "        <td>1966</td>\n",
       "    </tr>\n",
       "    <tr>\n",
       "        <td>07</td>\n",
       "        <td>1757</td>\n",
       "    </tr>\n",
       "    <tr>\n",
       "        <td>08</td>\n",
       "        <td>760</td>\n",
       "    </tr>\n",
       "</table>"
      ],
      "text/plain": [
       "[('01', 62),\n",
       " ('02', 151),\n",
       " ('03', 212),\n",
       " ('04', 589),\n",
       " ('05', 1438),\n",
       " ('06', 1966),\n",
       " ('07', 1757),\n",
       " ('08', 760)]"
      ]
     },
     "execution_count": 146,
     "metadata": {},
     "output_type": "execute_result"
    }
   ],
   "source": [
    "%%sql \n",
    "\n",
    "SELECT strftime('%m', created_datetime) AS month, \n",
    "        count(distinct transaction_id) AS total_transactions \n",
    "FROM exchange_transactions \n",
    "GROUP BY 1 "
   ]
  },
  {
   "cell_type": "code",
   "execution_count": 260,
   "id": "40121087",
   "metadata": {},
   "outputs": [],
   "source": [
    "# %%sql \n",
    "\n",
    "# SELECT strftime('%m', created_datetime) AS month, action,\n",
    "#         count(distinct transaction_id) AS total_transactions \n",
    "# FROM exchange_transactions \n",
    "# GROUP BY 1,2 "
   ]
  },
  {
   "cell_type": "markdown",
   "id": "c7cbaaec",
   "metadata": {},
   "source": [
    "We have a Tableau viz for the query above: (EDA) Action by month\n",
    "\n",
    "#### Narration of the chart:\n",
    " \n",
    "- The first deny_release didn't happen until April.\n",
    "- The first deny_transfer didn't happen until May.\n",
    "- Prior to May, there were always more releases than requests. Ever since we got to May, there were more requests than releases."
   ]
  },
  {
   "cell_type": "markdown",
   "id": "0bcb37b1",
   "metadata": {},
   "source": [
    "#### Observations:\n",
    "- Transaction creation times range from Jan 14,2019 to Aug 27,2019. \n",
    "- The associated blocks from the transactions range from Jun 3,2019 to Aug 30,2019. \n",
    "- The two ranges above tell us that there are no outliers in these two date columns.\n",
    "- More and more transactions were made over time. June has the highest number of transactions, followed by July and then May.\n",
    "- We see the least number of transaction in January."
   ]
  },
  {
   "cell_type": "code",
   "execution_count": null,
   "id": "aaae0c96",
   "metadata": {},
   "outputs": [
    {
     "name": "stdout",
     "output_type": "stream",
     "text": [
      " * sqlite:///LeanTaaSTestDB.db\n",
      "Done.\n"
     ]
    },
    {
     "data": {
      "text/html": [
       "<table>\n",
       "    <tr>\n",
       "        <th>location</th>\n",
       "        <th>number_of_rooms</th>\n",
       "    </tr>\n",
       "    <tr>\n",
       "        <td>CENTER</td>\n",
       "        <td>35</td>\n",
       "    </tr>\n",
       "    <tr>\n",
       "        <td>MRAH OR</td>\n",
       "        <td>18</td>\n",
       "    </tr>\n",
       "    <tr>\n",
       "        <td>MRH OR</td>\n",
       "        <td>15</td>\n",
       "    </tr>\n",
       "    <tr>\n",
       "        <td>MSC OR</td>\n",
       "        <td>9</td>\n",
       "    </tr>\n",
       "    <tr>\n",
       "        <td>MASC OR</td>\n",
       "        <td>8</td>\n",
       "    </tr>\n",
       "    <tr>\n",
       "        <td>VISION OR</td>\n",
       "        <td>6</td>\n",
       "    </tr>\n",
       "    <tr>\n",
       "        <td>CENTER PEDS</td>\n",
       "        <td>4</td>\n",
       "    </tr>\n",
       "</table>"
      ],
      "text/plain": [
       "[('CENTER', 35),\n",
       " ('MRAH OR', 18),\n",
       " ('MRH OR', 15),\n",
       " ('MSC OR', 9),\n",
       " ('MASC OR', 8),\n",
       " ('VISION OR', 6),\n",
       " ('CENTER PEDS', 4)]"
      ]
     },
     "execution_count": 70,
     "metadata": {},
     "output_type": "execute_result"
    }
   ],
   "source": [
    "%%sql\n",
    "\n",
    "SELECT location, \n",
    "        count(distinct room_name) AS number_of_rooms \n",
    "FROM exchange_transactions \n",
    "GROUP BY 1 \n",
    "ORDER BY 2 DESC "
   ]
  },
  {
   "cell_type": "code",
   "execution_count": null,
   "id": "07eeb29f",
   "metadata": {},
   "outputs": [
    {
     "name": "stdout",
     "output_type": "stream",
     "text": [
      " * sqlite:///LeanTaaSTestDB.db\n",
      "Done.\n"
     ]
    },
    {
     "data": {
      "text/html": [
       "<table>\n",
       "    <tr>\n",
       "        <th>surgeon</th>\n",
       "        <th>count(distinct location)</th>\n",
       "    </tr>\n",
       "    <tr>\n",
       "        <td>Daniel Finney</td>\n",
       "        <td>4</td>\n",
       "    </tr>\n",
       "</table>"
      ],
      "text/plain": [
       "[('Daniel Finney', 4)]"
      ]
     },
     "execution_count": 76,
     "metadata": {},
     "output_type": "execute_result"
    }
   ],
   "source": [
    "%%sql \n",
    "SELECT surgeon, \n",
    "        count(distinct location) \n",
    "FROM    \n",
    "    (SELECT surgeon, location , count(1) as count \n",
    "        FROM exchange_transactions GROUP BY 1, 2 )    \n",
    "GROUP BY 1 \n",
    "HAVING count(distinct location) > 1 \n",
    "ORDER BY count(distinct location) DESC\n",
    "LIMIT 1 \n"
   ]
  },
  {
   "cell_type": "markdown",
   "id": "6d03c68e",
   "metadata": {},
   "source": [
    "#### Observations:\n",
    "- There are a total of 7 different locations and each location has different number of rooms. \n",
    "- Center has the most number of OR in total, and Center Peds , which should represent Pediatric in Center, only has four ORs. \n",
    "- Vision is the second lowest in OR rooms, with a total of 6.  \n",
    "- A surgeon can travel across location in scheduling blocks, for example, surgeon Daniel Finney had blocks scheduled in four different locations.\n"
   ]
  },
  {
   "cell_type": "code",
   "execution_count": null,
   "id": "eb2d5a4f",
   "metadata": {},
   "outputs": [
    {
     "name": "stdout",
     "output_type": "stream",
     "text": [
      " * sqlite:///LeanTaaSTestDB.db\n",
      "Done.\n"
     ]
    },
    {
     "data": {
      "text/html": [
       "<table>\n",
       "    <tr>\n",
       "        <th>action</th>\n",
       "    </tr>\n",
       "    <tr>\n",
       "        <td>REQUEST</td>\n",
       "    </tr>\n",
       "    <tr>\n",
       "        <td>DENY_REQUEST</td>\n",
       "    </tr>\n",
       "    <tr>\n",
       "        <td>MARK_UPDATED</td>\n",
       "    </tr>\n",
       "</table>"
      ],
      "text/plain": [
       "[('REQUEST',), ('DENY_REQUEST',), ('MARK_UPDATED',)]"
      ]
     },
     "execution_count": 73,
     "metadata": {},
     "output_type": "execute_result"
    }
   ],
   "source": [
    "%%sql\n",
    "SELECT distinct action \n",
    "FROM exchange_transactions \n",
    "WHERE room_name IS null "
   ]
  },
  {
   "cell_type": "code",
   "execution_count": 135,
   "id": "baf7dc28",
   "metadata": {},
   "outputs": [
    {
     "name": "stdout",
     "output_type": "stream",
     "text": [
      " * sqlite:///LeanTaaSTestDB.db\n",
      "Done.\n"
     ]
    },
    {
     "data": {
      "text/html": [
       "<table>\n",
       "    <tr>\n",
       "        <th>COUNT(*)</th>\n",
       "    </tr>\n",
       "    <tr>\n",
       "        <td>24</td>\n",
       "    </tr>\n",
       "</table>"
      ],
      "text/plain": [
       "[(24,)]"
      ]
     },
     "execution_count": 135,
     "metadata": {},
     "output_type": "execute_result"
    }
   ],
   "source": [
    "%%sql \n",
    "SELECT COUNT(*)\n",
    "FROM exchange_transactions where action= 'REQUEST' \n",
    "AND room_name IS NOT null "
   ]
  },
  {
   "cell_type": "markdown",
   "id": "c832c909",
   "metadata": {},
   "source": [
    "#### Observations:\n",
    "- Room_name is null only when the action is either request, deny_request, or mark_updated.\n",
    "- However, there are also cases when action is request but the room name is not null. In those situations, scheduler specifies which room they are requesting.\n",
    "- MARK_UPDATED only takes place when a request got approved. Therefore, we can use it as a measure of successful transaction."
   ]
  },
  {
   "cell_type": "markdown",
   "id": "868276ae",
   "metadata": {},
   "source": [
    "# Assumptions\n",
    "    \n",
    "    1. All transaction made (from Jan to Aug) targetted blocks that take place in June, July and August. This is an interesting phenomeon and due to limited information, we will make the assumption that this is normal behavior.\n",
    "    2. As a follow up for the first bullet, we will make the assumptions that schedulers were only instructed to make changes for blocks in June, July, and August.  \n",
    "    3. Although the first transaction is created on 2019-01-14, we will make the assumption that the \"recent go-live\" started officially on 2019-01-01 for the sake of uniform number of days for each month. \n",
    "    4. Similarly, the last transaction made from our table is 2019-08-27, but we will make the assumption that we didn't generate this dataset until 2019-08-30, again for the sake of keeping consistent number of days for each month. \n",
    "    5. All hospital rooms that exist has been released, requested, or transfered at some point from 2019-01-14 to 2019-08-27, which is the period captuerd by exchange_transactions. In other words, count(distinct room_name) will get us the total number of rooms in this hospital for this customer.  \n",
    "    6. All actions made by the schedulers were correct.\n",
    "\n"
   ]
  },
  {
   "cell_type": "markdown",
   "id": "8ac7bd29",
   "metadata": {},
   "source": [
    "# Metrics definitions\n",
    "Utilization:\n",
    "- volume - number of release, request, transfer submitted\n",
    "\n",
    "Adoption: \n",
    "- number of approved request, approved release and approved transfers\n",
    "- percentage of approved (or denied) request - approve_request divided by total request \n",
    "- percentage of approved (or denied) transfer\n",
    "\n",
    "Optimization: \n",
    "- how many hours of block were freed up? in total by month or on average  \n",
    "- how many hours of block were optimized? \n",
    "- how many rooms were freed up? optimized?\n",
    "- what is the percent of utilization of those freed up capacity? \n",
    "- which location has the highest adoption? highest optimization?"
   ]
  },
  {
   "cell_type": "markdown",
   "id": "526787f4",
   "metadata": {},
   "source": [
    "# Data preprocessing\n",
    "In this section we will check for nulls and noisy data."
   ]
  },
  {
   "cell_type": "code",
   "execution_count": 131,
   "id": "1f836c0f",
   "metadata": {},
   "outputs": [
    {
     "name": "stdout",
     "output_type": "stream",
     "text": [
      " * sqlite:///LeanTaaSTestDB.db\n",
      "Done.\n"
     ]
    },
    {
     "data": {
      "text/html": [
       "<table>\n",
       "    <tr>\n",
       "        <th>count(1)</th>\n",
       "        <th>count(distinct transaction_id)</th>\n",
       "    </tr>\n",
       "    <tr>\n",
       "        <td>6965</td>\n",
       "        <td>6935</td>\n",
       "    </tr>\n",
       "</table>"
      ],
      "text/plain": [
       "[(6965, 6935)]"
      ]
     },
     "execution_count": 131,
     "metadata": {},
     "output_type": "execute_result"
    }
   ],
   "source": [
    "%%sql\n",
    "SELECT count(1), count(distinct transaction_id) \n",
    "FROM exchange_transactions"
   ]
  },
  {
   "cell_type": "code",
   "execution_count": 154,
   "id": "984a77b1",
   "metadata": {},
   "outputs": [
    {
     "name": "stdout",
     "output_type": "stream",
     "text": [
      " * sqlite:///LeanTaaSTestDB.db\n",
      "Done.\n"
     ]
    },
    {
     "data": {
      "text/html": [
       "<table>\n",
       "    <tr>\n",
       "        <th>count(distinct transaction_id)</th>\n",
       "    </tr>\n",
       "    <tr>\n",
       "        <td>20</td>\n",
       "    </tr>\n",
       "</table>"
      ],
      "text/plain": [
       "[(20,)]"
      ]
     },
     "execution_count": 154,
     "metadata": {},
     "output_type": "execute_result"
    }
   ],
   "source": [
    "%%sql\n",
    "select count(distinct transaction_id) \n",
    "FROM (select transaction_id FROM exchange_transactions group by 1 having count() >1 )"
   ]
  },
  {
   "cell_type": "code",
   "execution_count": 159,
   "id": "190c206a",
   "metadata": {},
   "outputs": [
    {
     "name": "stdout",
     "output_type": "stream",
     "text": [
      " * sqlite:///LeanTaaSTestDB.db\n",
      "Done.\n"
     ]
    },
    {
     "data": {
      "text/html": [
       "<table>\n",
       "    <tr>\n",
       "        <th>transaction_id</th>\n",
       "        <th>parent_transaction_id</th>\n",
       "        <th>action</th>\n",
       "        <th>scheduler</th>\n",
       "        <th>surgeon</th>\n",
       "        <th>created_datetime</th>\n",
       "        <th>snapshot_date</th>\n",
       "        <th>start_time</th>\n",
       "        <th>end_time</th>\n",
       "        <th>room_name</th>\n",
       "        <th>location</th>\n",
       "    </tr>\n",
       "</table>"
      ],
      "text/plain": [
       "[]"
      ]
     },
     "execution_count": 159,
     "metadata": {},
     "output_type": "execute_result"
    }
   ],
   "source": [
    "%%sql\n",
    "select * \n",
    "FROM exchange_transactions where transaction_id is null "
   ]
  },
  {
   "cell_type": "code",
   "execution_count": 105,
   "id": "78f4d203",
   "metadata": {},
   "outputs": [
    {
     "name": "stdout",
     "output_type": "stream",
     "text": [
      " * sqlite:///LeanTaaSTestDB.db\n",
      "Done.\n"
     ]
    },
    {
     "data": {
      "text/html": [
       "<table>\n",
       "    <tr>\n",
       "        <th>transaction_id</th>\n",
       "        <th>parent_transaction_id</th>\n",
       "        <th>action</th>\n",
       "        <th>scheduler</th>\n",
       "        <th>surgeon</th>\n",
       "        <th>created_datetime</th>\n",
       "        <th>snapshot_date</th>\n",
       "        <th>start_time</th>\n",
       "        <th>end_time</th>\n",
       "        <th>room_name</th>\n",
       "        <th>location</th>\n",
       "    </tr>\n",
       "</table>"
      ],
      "text/plain": [
       "[]"
      ]
     },
     "execution_count": 105,
     "metadata": {},
     "output_type": "execute_result"
    }
   ],
   "source": [
    "%%sql\n",
    "SELECT * \n",
    "FROM exchange_transactions \n",
    "WHERE scheduler IS NULL \n",
    "OR surgeon IS NULL \n",
    "OR scheduler = surgeon "
   ]
  },
  {
   "cell_type": "code",
   "execution_count": 186,
   "id": "2c258c66",
   "metadata": {},
   "outputs": [
    {
     "name": "stdout",
     "output_type": "stream",
     "text": [
      " * sqlite:///LeanTaaSTestDB.db\n",
      "Done.\n"
     ]
    },
    {
     "data": {
      "text/html": [
       "<table>\n",
       "    <tr>\n",
       "        <th>location</th>\n",
       "    </tr>\n",
       "    <tr>\n",
       "        <td>VISION OR</td>\n",
       "    </tr>\n",
       "    <tr>\n",
       "        <td>CENTER</td>\n",
       "    </tr>\n",
       "    <tr>\n",
       "        <td>MSC OR</td>\n",
       "    </tr>\n",
       "</table>"
      ],
      "text/plain": [
       "[('VISION OR',), ('CENTER',), ('MSC OR',)]"
      ]
     },
     "execution_count": 186,
     "metadata": {},
     "output_type": "execute_result"
    }
   ],
   "source": [
    "%%sql\n",
    "select distinct location \n",
    "FROM exchange_transactions where action = 'DENY_TRANSFER'"
   ]
  },
  {
   "cell_type": "code",
   "execution_count": 218,
   "id": "9a5f80af",
   "metadata": {},
   "outputs": [
    {
     "name": "stdout",
     "output_type": "stream",
     "text": [
      " * sqlite:///LeanTaaSTestDB.db\n",
      "Done.\n"
     ]
    },
    {
     "data": {
      "text/html": [
       "<table>\n",
       "    <tr>\n",
       "        <th>transaction_id</th>\n",
       "        <th>parent_transaction_id</th>\n",
       "        <th>action</th>\n",
       "        <th>scheduler</th>\n",
       "        <th>surgeon</th>\n",
       "        <th>created_datetime</th>\n",
       "        <th>snapshot_date</th>\n",
       "        <th>start_time</th>\n",
       "        <th>end_time</th>\n",
       "        <th>room_name</th>\n",
       "        <th>location</th>\n",
       "    </tr>\n",
       "</table>"
      ],
      "text/plain": [
       "[]"
      ]
     },
     "execution_count": 218,
     "metadata": {},
     "output_type": "execute_result"
    }
   ],
   "source": [
    "%%sql\n",
    "select * \n",
    "FROM exchange_transactions where end_time < start_time"
   ]
  },
  {
   "cell_type": "markdown",
   "id": "ae57a503",
   "metadata": {},
   "source": [
    "#### Observations:\n",
    "- Although it was said in the data dictionary that transaction_id is a uniquely generated serial number, the above queries show that there are 20 duplicated transaction_id's in the data table\n",
    "- The usual approach I'll take is to handle this is to remove the duplicated rows using row_number() window function and filtering by row number if I were in PostgreSQL. However, for thhis assignemnt, I am using SQLite and when window funcion does not work the same way in this database, I'll take a different approach to use count distinct whenever I work with the transaction_id column\n",
    "\n",
    "- We do not see anywhere in the data where scheduler name or the surgeon name is empty, which is good.  \n",
    "- We do not see any rows where scheduler name is the same as surgeon name. \n",
    "- we do not see anywhere in the table where end time is less than start time, this is another good sign.\n",
    "- From the above, we can infer that the data ingestion for these two columns is accurate.\n",
    "\n"
   ]
  },
  {
   "cell_type": "markdown",
   "id": "a1d4f445",
   "metadata": {},
   "source": [
    "# Metrics calculation - finding value with iSurgery\n",
    "In order to uncover the value the customer has seen with iSurgery so far, we will use the optimization metrics defined in the previous section."
   ]
  },
  {
   "cell_type": "markdown",
   "id": "b7febfbe",
   "metadata": {},
   "source": [
    "#### How many hours were freed up? How many hours were optimized? "
   ]
  },
  {
   "cell_type": "code",
   "execution_count": 155,
   "id": "b77eab6a",
   "metadata": {},
   "outputs": [
    {
     "name": "stdout",
     "output_type": "stream",
     "text": [
      " * sqlite:///LeanTaaSTestDB.db\n",
      "Done.\n"
     ]
    },
    {
     "data": {
      "text/html": [
       "<table>\n",
       "    <tr>\n",
       "        <th>month</th>\n",
       "        <th>released_hours</th>\n",
       "    </tr>\n",
       "    <tr>\n",
       "        <td>06</td>\n",
       "        <td>2951.0</td>\n",
       "    </tr>\n",
       "    <tr>\n",
       "        <td>07</td>\n",
       "        <td>3481.0</td>\n",
       "    </tr>\n",
       "    <tr>\n",
       "        <td>08</td>\n",
       "        <td>3034.0</td>\n",
       "    </tr>\n",
       "</table>"
      ],
      "text/plain": [
       "[('06', 2951.0), ('07', 3481.0), ('08', 3034.0)]"
      ]
     },
     "execution_count": 155,
     "metadata": {},
     "output_type": "execute_result"
    }
   ],
   "source": [
    "%%sql \n",
    "with cte as (\n",
    "SELECT at.*, ROUND((JULIANDAY(at.end_time)-JULIANDAY(at.start_time))*24,1) AS block_duration,\n",
    "et.scheduler AS or_scheduler, \n",
    "et.action AS or_action, \n",
    "et.created_datetime \n",
    "FROM exchange_transactions at \n",
    "JOIN exchange_transactions et \n",
    "ON at.transaction_id = et.parent_transaction_id \n",
    ")\n",
    "SELECT strftime('%m', snapshot_date) as month, ROUND(sum(block_duration),0) AS released_hours\n",
    "FROM cte \n",
    "WHERE action = 'RELEASE' AND or_action = 'MARK_UPDATED' \n",
    "GROUP BY 1 "
   ]
  },
  {
   "cell_type": "code",
   "execution_count": 138,
   "id": "ef6c718f",
   "metadata": {},
   "outputs": [
    {
     "name": "stdout",
     "output_type": "stream",
     "text": [
      " * sqlite:///LeanTaaSTestDB.db\n",
      "Done.\n"
     ]
    },
    {
     "data": {
      "text/html": [
       "<table>\n",
       "    <tr>\n",
       "        <th>month</th>\n",
       "        <th>optimized_hours</th>\n",
       "    </tr>\n",
       "    <tr>\n",
       "        <td>06</td>\n",
       "        <td>2034.0</td>\n",
       "    </tr>\n",
       "    <tr>\n",
       "        <td>07</td>\n",
       "        <td>2532.0</td>\n",
       "    </tr>\n",
       "    <tr>\n",
       "        <td>08</td>\n",
       "        <td>2472.0</td>\n",
       "    </tr>\n",
       "</table>"
      ],
      "text/plain": [
       "[('06', 2034.0), ('07', 2532.0), ('08', 2472.0)]"
      ]
     },
     "execution_count": 138,
     "metadata": {},
     "output_type": "execute_result"
    }
   ],
   "source": [
    "%%sql \n",
    "with cte as (\n",
    "SELECT at.*, ROUND((JULIANDAY(at.end_time)-JULIANDAY(at.start_time))*24,1) AS block_duration, \n",
    "et.scheduler AS or_scheduler, \n",
    "et.action AS or_action, \n",
    "et.created_datetime \n",
    "FROM exchange_transactions at \n",
    "JOIN exchange_transactions et \n",
    "ON at.transaction_id = et.parent_transaction_id \n",
    ")\n",
    "SELECT strftime('%m', snapshot_date) as month, ROUND( sum(block_duration),0) AS optimized_hours\n",
    "FROM cte \n",
    "WHERE ( action = 'REQUEST' AND or_action = 'APPROVE_REQUEST' ) \n",
    "OR ( action  ='TRANSFER' AND or_action = 'APPROVE_TRANSFER')\n",
    "GROUP BY 1 "
   ]
  },
  {
   "cell_type": "code",
   "execution_count": 5,
   "id": "0e7400ab",
   "metadata": {},
   "outputs": [
    {
     "name": "stdout",
     "output_type": "stream",
     "text": [
      " * sqlite:///LeanTaaSTestDB.db\n",
      "Done.\n"
     ]
    },
    {
     "data": {
      "text/html": [
       "<table>\n",
       "    <tr>\n",
       "        <th>Month</th>\n",
       "        <th>Opt hours</th>\n",
       "        <th>Freed hrs</th>\n",
       "        <th>% utilized</th>\n",
       "    </tr>\n",
       "    <tr>\n",
       "        <td>06</td>\n",
       "        <td>2034.0</td>\n",
       "        <td>2951.0</td>\n",
       "        <td>0.69</td>\n",
       "    </tr>\n",
       "    <tr>\n",
       "        <td>07</td>\n",
       "        <td>2532.0</td>\n",
       "        <td>3481.0</td>\n",
       "        <td>0.73</td>\n",
       "    </tr>\n",
       "    <tr>\n",
       "        <td>08</td>\n",
       "        <td>2472.0</td>\n",
       "        <td>3034.0</td>\n",
       "        <td>0.81</td>\n",
       "    </tr>\n",
       "</table>"
      ],
      "text/plain": [
       "[('06', 2034.0, 2951.0, 0.69),\n",
       " ('07', 2532.0, 3481.0, 0.73),\n",
       " ('08', 2472.0, 3034.0, 0.81)]"
      ]
     },
     "execution_count": 5,
     "metadata": {},
     "output_type": "execute_result"
    }
   ],
   "source": [
    "%%sql \n",
    "with cte as (\n",
    "SELECT at.*, ROUND((JULIANDAY(at.end_time)-JULIANDAY(at.start_time))*24,1) AS block_duration, \n",
    "et.scheduler AS or_scheduler, \n",
    "et.action AS or_action, \n",
    "et.created_datetime \n",
    "FROM exchange_transactions at \n",
    "JOIN exchange_transactions et \n",
    "ON at.transaction_id = et.parent_transaction_id \n",
    "), \n",
    "cte_a as ( \n",
    "SELECT strftime('%m', snapshot_date) as month, ROUND(sum(block_duration),0) AS optimized_hours\n",
    "FROM cte \n",
    "WHERE ( action = 'REQUEST' AND or_action = 'APPROVE_REQUEST' ) \n",
    "OR (action  ='TRANSFER' AND or_action = 'APPROVE_TRANSFER' )\n",
    "GROUP BY 1 \n",
    "), \n",
    "cte_b as( \n",
    "SELECT strftime('%m', snapshot_date) as month, ROUND(sum(block_duration),0) AS released_hours\n",
    "FROM cte \n",
    "WHERE action = 'RELEASE' AND or_action = 'MARK_UPDATED' \n",
    "GROUP BY 1 \n",
    ")\n",
    "SELECT cte_a.month as 'Month', \n",
    "    released_hours as 'Freed hrs', \n",
    "    optimized_hours as 'Opt hours', \n",
    "    round(optimized_hours /released_hours,2) as '% utilized' \n",
    "FROM cte_a join cte_b on cte_a.month = cte_b.month \n"
   ]
  },
  {
   "cell_type": "markdown",
   "id": "e9c268f1",
   "metadata": {},
   "source": [
    "We have a Tableau visualization which shows the breakdown of released block hours by location. (Released block hrs by location)\n",
    "\n",
    "#### Narration of the chart:\n",
    "- CENTER has the most released hours at all times.\n",
    "- MRAH is the second hightest in number of hours released, with an average between 1000-1200 from June to Aug.\n",
    "- CENTER PEDS has the least number of block hours released."
   ]
  },
  {
   "cell_type": "markdown",
   "id": "a45458f4",
   "metadata": {},
   "source": [
    "Another Tableau viz was built in attempting to show the breakdown of optimized and released hour for the three months. \n",
    "However, a pie chart is not the best in showing inflow and outflow, it's sufficient to show how the slices of transfer + requests roughly equal to the slice of release."
   ]
  },
  {
   "cell_type": "markdown",
   "id": "6296195f",
   "metadata": {},
   "source": [
    "This final percentage ( optimizaed/released percentage) represents the %utilized from the freed up capacity."
   ]
  },
  {
   "cell_type": "markdown",
   "id": "65b96f75",
   "metadata": {},
   "source": [
    "#### How many rooms were freed up? optimized? "
   ]
  },
  {
   "cell_type": "code",
   "execution_count": 93,
   "id": "5053bf77",
   "metadata": {},
   "outputs": [
    {
     "name": "stdout",
     "output_type": "stream",
     "text": [
      " * sqlite:///LeanTaaSTestDB.db\n",
      "Done.\n"
     ]
    },
    {
     "data": {
      "text/html": [
       "<table>\n",
       "    <tr>\n",
       "        <th>block_month</th>\n",
       "        <th>count( distinct room_name)</th>\n",
       "    </tr>\n",
       "    <tr>\n",
       "        <td>06</td>\n",
       "        <td>87</td>\n",
       "    </tr>\n",
       "    <tr>\n",
       "        <td>07</td>\n",
       "        <td>90</td>\n",
       "    </tr>\n",
       "    <tr>\n",
       "        <td>08</td>\n",
       "        <td>85</td>\n",
       "    </tr>\n",
       "</table>"
      ],
      "text/plain": [
       "[('06', 87), ('07', 90), ('08', 85)]"
      ]
     },
     "execution_count": 93,
     "metadata": {},
     "output_type": "execute_result"
    }
   ],
   "source": [
    "%%sql \n",
    "with cte as (\n",
    "SELECT at.*, ROUND((JULIANDAY(at.end_time)-JULIANDAY(at.start_time))*24,1) AS block_duration, \n",
    "et.scheduler AS or_scheduler, \n",
    "et.action AS or_action, \n",
    "et.created_datetime \n",
    "FROM exchange_transactions at \n",
    "JOIN exchange_transactions et \n",
    "ON at.transaction_id = et.parent_transaction_id \n",
    ")\n",
    "SELECT strftime('%m', snapshot_date) as block_month, count( distinct room_name)\n",
    "FROM cte \n",
    "WHERE action = 'RELEASE' AND or_action = 'MARK_UPDATED' \n",
    "GROUP BY 1 "
   ]
  },
  {
   "cell_type": "code",
   "execution_count": 230,
   "id": "27f510be",
   "metadata": {},
   "outputs": [
    {
     "name": "stdout",
     "output_type": "stream",
     "text": [
      " * sqlite:///LeanTaaSTestDB.db\n",
      "Done.\n"
     ]
    },
    {
     "data": {
      "text/html": [
       "<table>\n",
       "    <tr>\n",
       "        <th>location</th>\n",
       "        <th>block_month</th>\n",
       "        <th>percent_released</th>\n",
       "    </tr>\n",
       "    <tr>\n",
       "        <td>CENTER</td>\n",
       "        <td>06</td>\n",
       "        <td>0.94</td>\n",
       "    </tr>\n",
       "    <tr>\n",
       "        <td>CENTER</td>\n",
       "        <td>07</td>\n",
       "        <td>0.94</td>\n",
       "    </tr>\n",
       "    <tr>\n",
       "        <td>CENTER</td>\n",
       "        <td>08</td>\n",
       "        <td>0.94</td>\n",
       "    </tr>\n",
       "    <tr>\n",
       "        <td>CENTER PEDS</td>\n",
       "        <td>06</td>\n",
       "        <td>0.75</td>\n",
       "    </tr>\n",
       "    <tr>\n",
       "        <td>CENTER PEDS</td>\n",
       "        <td>07</td>\n",
       "        <td>0.75</td>\n",
       "    </tr>\n",
       "    <tr>\n",
       "        <td>CENTER PEDS</td>\n",
       "        <td>08</td>\n",
       "        <td>1.0</td>\n",
       "    </tr>\n",
       "    <tr>\n",
       "        <td>MASC OR</td>\n",
       "        <td>06</td>\n",
       "        <td>0.88</td>\n",
       "    </tr>\n",
       "    <tr>\n",
       "        <td>MASC OR</td>\n",
       "        <td>07</td>\n",
       "        <td>1.0</td>\n",
       "    </tr>\n",
       "    <tr>\n",
       "        <td>MASC OR</td>\n",
       "        <td>08</td>\n",
       "        <td>1.0</td>\n",
       "    </tr>\n",
       "    <tr>\n",
       "        <td>MRAH OR</td>\n",
       "        <td>06</td>\n",
       "        <td>1.0</td>\n",
       "    </tr>\n",
       "    <tr>\n",
       "        <td>MRAH OR</td>\n",
       "        <td>07</td>\n",
       "        <td>1.0</td>\n",
       "    </tr>\n",
       "    <tr>\n",
       "        <td>MRAH OR</td>\n",
       "        <td>08</td>\n",
       "        <td>0.94</td>\n",
       "    </tr>\n",
       "    <tr>\n",
       "        <td>MRH OR</td>\n",
       "        <td>06</td>\n",
       "        <td>0.93</td>\n",
       "    </tr>\n",
       "    <tr>\n",
       "        <td>MRH OR</td>\n",
       "        <td>07</td>\n",
       "        <td>0.93</td>\n",
       "    </tr>\n",
       "    <tr>\n",
       "        <td>MRH OR</td>\n",
       "        <td>08</td>\n",
       "        <td>0.85</td>\n",
       "    </tr>\n",
       "    <tr>\n",
       "        <td>MSC OR</td>\n",
       "        <td>06</td>\n",
       "        <td>1.0</td>\n",
       "    </tr>\n",
       "    <tr>\n",
       "        <td>MSC OR</td>\n",
       "        <td>07</td>\n",
       "        <td>1.0</td>\n",
       "    </tr>\n",
       "    <tr>\n",
       "        <td>MSC OR</td>\n",
       "        <td>08</td>\n",
       "        <td>1.0</td>\n",
       "    </tr>\n",
       "    <tr>\n",
       "        <td>VISION OR</td>\n",
       "        <td>06</td>\n",
       "        <td>1.0</td>\n",
       "    </tr>\n",
       "    <tr>\n",
       "        <td>VISION OR</td>\n",
       "        <td>07</td>\n",
       "        <td>1.0</td>\n",
       "    </tr>\n",
       "    <tr>\n",
       "        <td>VISION OR</td>\n",
       "        <td>08</td>\n",
       "        <td>1.0</td>\n",
       "    </tr>\n",
       "</table>"
      ],
      "text/plain": [
       "[('CENTER', '06', 0.94),\n",
       " ('CENTER', '07', 0.94),\n",
       " ('CENTER', '08', 0.94),\n",
       " ('CENTER PEDS', '06', 0.75),\n",
       " ('CENTER PEDS', '07', 0.75),\n",
       " ('CENTER PEDS', '08', 1.0),\n",
       " ('MASC OR', '06', 0.88),\n",
       " ('MASC OR', '07', 1.0),\n",
       " ('MASC OR', '08', 1.0),\n",
       " ('MRAH OR', '06', 1.0),\n",
       " ('MRAH OR', '07', 1.0),\n",
       " ('MRAH OR', '08', 0.94),\n",
       " ('MRH OR', '06', 0.93),\n",
       " ('MRH OR', '07', 0.93),\n",
       " ('MRH OR', '08', 0.85),\n",
       " ('MSC OR', '06', 1.0),\n",
       " ('MSC OR', '07', 1.0),\n",
       " ('MSC OR', '08', 1.0),\n",
       " ('VISION OR', '06', 1.0),\n",
       " ('VISION OR', '07', 1.0),\n",
       " ('VISION OR', '08', 1.0)]"
      ]
     },
     "execution_count": 230,
     "metadata": {},
     "output_type": "execute_result"
    }
   ],
   "source": [
    "%%sql \n",
    "with cte as (\n",
    "SELECT at.*, ROUND((JULIANDAY(at.end_time)-JULIANDAY(at.start_time))*24,1) AS block_duration, \n",
    "et.scheduler AS or_scheduler, \n",
    "et.action AS or_action, \n",
    "et.created_datetime \n",
    "FROM exchange_transactions at \n",
    "JOIN exchange_transactions et \n",
    "ON at.transaction_id = et.parent_transaction_id \n",
    "),\n",
    "cte_a as( \n",
    "SELECT location, strftime('%m', snapshot_date) as block_month, round(count( distinct room_name),0) as count\n",
    "FROM cte \n",
    "WHERE action = 'RELEASE' AND or_action = 'MARK_UPDATED' \n",
    "GROUP BY 1,2\n",
    "),\n",
    "cte_b as(\n",
    "SELECT location, strftime('%m', snapshot_date) as block_month, round(count(distinct room_name),0) as countss\n",
    "FROM exchange_transactions \n",
    "GROUP BY 1,2\n",
    ")\n",
    "\n",
    "SELECT cte_a.location, cte_a.block_month, round(count/countss,2) as percent_released\n",
    "FROM cte_a JOIN cte_b \n",
    "ON cte_a.location = cte_b.location and cte_a.block_month = cte_b.block_month"
   ]
  },
  {
   "cell_type": "code",
   "execution_count": 267,
   "id": "396e6895",
   "metadata": {},
   "outputs": [
    {
     "name": "stdout",
     "output_type": "stream",
     "text": [
      " * sqlite:///LeanTaaSTestDB.db\n",
      "Done.\n"
     ]
    },
    {
     "data": {
      "text/html": [
       "<table>\n",
       "    <tr>\n",
       "        <th>month</th>\n",
       "        <th>block_month</th>\n",
       "        <th>count( distinct room_name)</th>\n",
       "    </tr>\n",
       "    <tr>\n",
       "        <td>01</td>\n",
       "        <td>06</td>\n",
       "        <td>10</td>\n",
       "    </tr>\n",
       "    <tr>\n",
       "        <td>01</td>\n",
       "        <td>07</td>\n",
       "        <td>5</td>\n",
       "    </tr>\n",
       "    <tr>\n",
       "        <td>02</td>\n",
       "        <td>06</td>\n",
       "        <td>12</td>\n",
       "    </tr>\n",
       "    <tr>\n",
       "        <td>02</td>\n",
       "        <td>07</td>\n",
       "        <td>15</td>\n",
       "    </tr>\n",
       "    <tr>\n",
       "        <td>02</td>\n",
       "        <td>08</td>\n",
       "        <td>2</td>\n",
       "    </tr>\n",
       "</table>"
      ],
      "text/plain": [
       "[('01', '06', 10),\n",
       " ('01', '07', 5),\n",
       " ('02', '06', 12),\n",
       " ('02', '07', 15),\n",
       " ('02', '08', 2)]"
      ]
     },
     "execution_count": 267,
     "metadata": {},
     "output_type": "execute_result"
    }
   ],
   "source": [
    "%%sql \n",
    "with cte as (\n",
    "SELECT at.*, ROUND((JULIANDAY(at.end_time)-JULIANDAY(at.start_time))*24,1) AS block_duration, \n",
    "et.scheduler AS or_scheduler, \n",
    "et.action AS or_action, \n",
    "et.created_datetime \n",
    "FROM exchange_transactions at \n",
    "JOIN exchange_transactions et \n",
    "ON at.transaction_id = et.parent_transaction_id \n",
    ")\n",
    "SELECT strftime('%m', created_datetime) as month, \n",
    "    strftime('%m', snapshot_date) as block_month, \n",
    "    count( distinct room_name)\n",
    "FROM cte \n",
    "WHERE action = 'RELEASE' AND or_action = 'MARK_UPDATED' \n",
    "GROUP BY 1,2 \n",
    "LIMIT 5 "
   ]
  },
  {
   "cell_type": "markdown",
   "id": "3eeec1a7",
   "metadata": {},
   "source": [
    "We have a Tableau visualization for the table above ( Number of rooms released by Month of Creation )\n",
    "##### Narration of the chart:\n",
    "\n",
    "- The number of submission increases month over month, this can be seen as increasing adoption of the new tool.\n",
    "- No rooms for blocks in August were released in Jan. \n",
    "- In March, we can see a >100% jump for the number of transaction submitted to release capacity in June and in August.\n",
    "- As we get closer and closer to the month of the associated block, the number of transactions increases. "
   ]
  },
  {
   "cell_type": "code",
   "execution_count": 171,
   "id": "02e76d69",
   "metadata": {},
   "outputs": [
    {
     "name": "stdout",
     "output_type": "stream",
     "text": [
      " * sqlite:///LeanTaaSTestDB.db\n",
      "Done.\n"
     ]
    },
    {
     "data": {
      "text/html": [
       "<table>\n",
       "    <tr>\n",
       "        <th>block_month</th>\n",
       "        <th>count(distinct room_name)</th>\n",
       "    </tr>\n",
       "    <tr>\n",
       "        <td>06</td>\n",
       "        <td>80</td>\n",
       "    </tr>\n",
       "    <tr>\n",
       "        <td>07</td>\n",
       "        <td>89</td>\n",
       "    </tr>\n",
       "    <tr>\n",
       "        <td>08</td>\n",
       "        <td>83</td>\n",
       "    </tr>\n",
       "</table>"
      ],
      "text/plain": [
       "[('06', 80), ('07', 89), ('08', 83)]"
      ]
     },
     "execution_count": 171,
     "metadata": {},
     "output_type": "execute_result"
    }
   ],
   "source": [
    "%%sql \n",
    "SELECT strftime('%m', snapshot_date) as block_month, \n",
    "    count(distinct room_name) \n",
    "FROM exchange_transactions \n",
    "WHERE action = 'APPROVE_REQUEST' OR action ='APPROVE_TRANSFER' \n",
    "GROUP BY 1\n"
   ]
  },
  {
   "cell_type": "code",
   "execution_count": 6,
   "id": "bc2bb8a6",
   "metadata": {},
   "outputs": [
    {
     "name": "stdout",
     "output_type": "stream",
     "text": [
      " * sqlite:///LeanTaaSTestDB.db\n",
      "Done.\n"
     ]
    },
    {
     "data": {
      "text/html": [
       "<table>\n",
       "    <tr>\n",
       "        <th>block_month</th>\n",
       "        <th>Freed rooms</th>\n",
       "        <th>Opt rooms</th>\n",
       "        <th>% utilized</th>\n",
       "    </tr>\n",
       "    <tr>\n",
       "        <td>06</td>\n",
       "        <td>87.0</td>\n",
       "        <td>80.0</td>\n",
       "        <td>0.92</td>\n",
       "    </tr>\n",
       "    <tr>\n",
       "        <td>07</td>\n",
       "        <td>90.0</td>\n",
       "        <td>89.0</td>\n",
       "        <td>0.99</td>\n",
       "    </tr>\n",
       "    <tr>\n",
       "        <td>08</td>\n",
       "        <td>85.0</td>\n",
       "        <td>83.0</td>\n",
       "        <td>0.98</td>\n",
       "    </tr>\n",
       "</table>"
      ],
      "text/plain": [
       "[('06', 87.0, 80.0, 0.92), ('07', 90.0, 89.0, 0.99), ('08', 85.0, 83.0, 0.98)]"
      ]
     },
     "execution_count": 6,
     "metadata": {},
     "output_type": "execute_result"
    }
   ],
   "source": [
    "%%sql \n",
    "with cte as (\n",
    "SELECT at.*, ROUND((JULIANDAY(at.end_time)-JULIANDAY(at.start_time))*24,1) AS block_duration, \n",
    "et.scheduler AS or_scheduler, \n",
    "et.action AS or_action, \n",
    "et.created_datetime \n",
    "FROM exchange_transactions at \n",
    "JOIN exchange_transactions et \n",
    "ON at.transaction_id = et.parent_transaction_id \n",
    "), cte_a as( \n",
    "SELECT strftime('%m', snapshot_date) as block_month, round(count( distinct room_name),0) as released_rooms\n",
    "FROM cte \n",
    "WHERE action = 'RELEASE' AND or_action = 'MARK_UPDATED' \n",
    "GROUP BY 1 \n",
    "),\n",
    "cte_b as(\n",
    "SELECT strftime('%m', snapshot_date) as block_month, \n",
    "    round(count(distinct room_name),0) as opt_rooms\n",
    "FROM exchange_transactions \n",
    "WHERE action = 'APPROVE_REQUEST' OR action ='APPROVE_TRANSFER' \n",
    "GROUP BY 1\n",
    ") \n",
    "\n",
    "SELECT cte_b.block_month, released_rooms as 'Freed rooms',opt_rooms as 'Opt rooms', \n",
    "    round(opt_rooms/released_rooms,2) as '% utilized'\n",
    "FROM cte_b join cte_a on cte_a.block_month = cte_b.block_month \n",
    "\n"
   ]
  },
  {
   "cell_type": "markdown",
   "id": "cc6a34ad",
   "metadata": {},
   "source": [
    "#### Similar to total hours, we can measure %Utilization from the freed up room capacity."
   ]
  },
  {
   "cell_type": "markdown",
   "id": "572a519f",
   "metadata": {},
   "source": [
    "#### Which location has the biggest adoption? "
   ]
  },
  {
   "cell_type": "markdown",
   "id": "723bd3f1",
   "metadata": {},
   "source": [
    "Let's start with the total number of approved release, request and transfer."
   ]
  },
  {
   "cell_type": "code",
   "execution_count": 197,
   "id": "0bfe0172",
   "metadata": {},
   "outputs": [
    {
     "name": "stdout",
     "output_type": "stream",
     "text": [
      " * sqlite:///LeanTaaSTestDB.db\n",
      "Done.\n"
     ]
    },
    {
     "data": {
      "text/html": [
       "<table>\n",
       "    <tr>\n",
       "        <th>COUNT(distinct transaction_id)</th>\n",
       "    </tr>\n",
       "    <tr>\n",
       "        <td>1177</td>\n",
       "    </tr>\n",
       "</table>"
      ],
      "text/plain": [
       "[(1177,)]"
      ]
     },
     "execution_count": 197,
     "metadata": {},
     "output_type": "execute_result"
    }
   ],
   "source": [
    "%%sql\n",
    "WITH cte AS (\n",
    " SELECT at.*, et.scheduler AS or_scheduler, et.action AS or_action, et.created_datetime \n",
    " FROM exchange_transactions at JOIN exchange_transactions et ON at.transaction_id = et.parent_transaction_id \n",
    " )\n",
    " SELECT COUNT(distinct transaction_id) FROM cte where action = 'RELEASE' and or_action = 'MARK_UPDATED' "
   ]
  },
  {
   "cell_type": "code",
   "execution_count": 198,
   "id": "1ff73ef3",
   "metadata": {},
   "outputs": [
    {
     "name": "stdout",
     "output_type": "stream",
     "text": [
      " * sqlite:///LeanTaaSTestDB.db\n",
      "Done.\n"
     ]
    },
    {
     "data": {
      "text/html": [
       "<table>\n",
       "    <tr>\n",
       "        <th>COUNT(distinct transaction_id)</th>\n",
       "    </tr>\n",
       "    <tr>\n",
       "        <td>256</td>\n",
       "    </tr>\n",
       "</table>"
      ],
      "text/plain": [
       "[(256,)]"
      ]
     },
     "execution_count": 198,
     "metadata": {},
     "output_type": "execute_result"
    }
   ],
   "source": [
    "%%sql\n",
    "WITH cte AS (\n",
    " SELECT at.*, et.scheduler AS or_scheduler, et.action AS or_action, et.created_datetime \n",
    " FROM exchange_transactions at JOIN exchange_transactions et ON at.transaction_id = et.parent_transaction_id \n",
    " )\n",
    " SELECT COUNT(distinct transaction_id) FROM cte where action = 'TRANSFER' and or_action = 'APPROVE_TRANSFER' "
   ]
  },
  {
   "cell_type": "code",
   "execution_count": 199,
   "id": "00618086",
   "metadata": {},
   "outputs": [
    {
     "name": "stdout",
     "output_type": "stream",
     "text": [
      " * sqlite:///LeanTaaSTestDB.db\n",
      "Done.\n"
     ]
    },
    {
     "data": {
      "text/html": [
       "<table>\n",
       "    <tr>\n",
       "        <th>COUNT(distinct transaction_id)</th>\n",
       "    </tr>\n",
       "    <tr>\n",
       "        <td>1134</td>\n",
       "    </tr>\n",
       "</table>"
      ],
      "text/plain": [
       "[(1134,)]"
      ]
     },
     "execution_count": 199,
     "metadata": {},
     "output_type": "execute_result"
    }
   ],
   "source": [
    "%%sql\n",
    "WITH cte AS (\n",
    " SELECT at.*, et.scheduler AS or_scheduler, et.action AS or_action, et.created_datetime \n",
    " FROM exchange_transactions at JOIN exchange_transactions et ON at.transaction_id = et.parent_transaction_id \n",
    " )\n",
    "\n",
    "SELECT COUNT(distinct transaction_id) \n",
    "FROM cte where action = 'REQUEST' AND or_action = 'APPROVE_REQUEST' "
   ]
  },
  {
   "cell_type": "markdown",
   "id": "a824f9a9",
   "metadata": {},
   "source": [
    "Over the span of three months, there were 1177 approved releases, 1134 approved request and 256 approved transfer."
   ]
  },
  {
   "cell_type": "markdown",
   "id": "73480a08",
   "metadata": {},
   "source": [
    "We have a Tableau viz to show the breakdown of approved releases, request and tranfer by snapshot month. (Transaction by Action Type) \n",
    "\n",
    "#### Narration of the chart:\n",
    "\n",
    "- From June to Aug, number of approve_request were straightly increasing.\n",
    "- The number of releases and approve_transfer spiked in July, but then dropped in August."
   ]
  },
  {
   "cell_type": "code",
   "execution_count": 3,
   "id": "a85dfe9a",
   "metadata": {},
   "outputs": [
    {
     "name": "stdout",
     "output_type": "stream",
     "text": [
      " * sqlite:///LeanTaaSTestDB.db\n",
      "Done.\n"
     ]
    },
    {
     "data": {
      "text/html": [
       "<table>\n",
       "    <tr>\n",
       "        <th>location</th>\n",
       "        <th>percentage</th>\n",
       "    </tr>\n",
       "    <tr>\n",
       "        <td>CENTER</td>\n",
       "        <td>90</td>\n",
       "    </tr>\n",
       "    <tr>\n",
       "        <td>MRH OR</td>\n",
       "        <td>87</td>\n",
       "    </tr>\n",
       "    <tr>\n",
       "        <td>MASC OR</td>\n",
       "        <td>85</td>\n",
       "    </tr>\n",
       "    <tr>\n",
       "        <td>MRAH OR</td>\n",
       "        <td>84</td>\n",
       "    </tr>\n",
       "    <tr>\n",
       "        <td>VISION OR</td>\n",
       "        <td>83</td>\n",
       "    </tr>\n",
       "    <tr>\n",
       "        <td>MSC OR</td>\n",
       "        <td>82</td>\n",
       "    </tr>\n",
       "    <tr>\n",
       "        <td>CENTER PEDS</td>\n",
       "        <td>77</td>\n",
       "    </tr>\n",
       "</table>"
      ],
      "text/plain": [
       "[('CENTER', 90),\n",
       " ('MRH OR', 87),\n",
       " ('MASC OR', 85),\n",
       " ('MRAH OR', 84),\n",
       " ('VISION OR', 83),\n",
       " ('MSC OR', 82),\n",
       " ('CENTER PEDS', 77)]"
      ]
     },
     "execution_count": 3,
     "metadata": {},
     "output_type": "execute_result"
    }
   ],
   "source": [
    "%%sql \n",
    "SELECT location, (sum( CASE WHEN action = 'APPROVE_REQUEST' THEN 1 ELSE 0 end )*100 /sum( CASE WHEN action = 'REQUEST' then 1 ELSE 0 end)* 100)/ 100 AS percentage \n",
    "FROM exchange_transactions\n",
    "GROUP BY 1 \n",
    "ORDER BY 2 DESC"
   ]
  },
  {
   "cell_type": "code",
   "execution_count": 4,
   "id": "fa232972",
   "metadata": {},
   "outputs": [
    {
     "name": "stdout",
     "output_type": "stream",
     "text": [
      " * sqlite:///LeanTaaSTestDB.db\n",
      "Done.\n"
     ]
    },
    {
     "data": {
      "text/html": [
       "<table>\n",
       "    <tr>\n",
       "        <th>location</th>\n",
       "        <th>percentage</th>\n",
       "    </tr>\n",
       "    <tr>\n",
       "        <td>MRH OR</td>\n",
       "        <td>100</td>\n",
       "    </tr>\n",
       "    <tr>\n",
       "        <td>MRAH OR</td>\n",
       "        <td>100</td>\n",
       "    </tr>\n",
       "    <tr>\n",
       "        <td>MASC OR</td>\n",
       "        <td>100</td>\n",
       "    </tr>\n",
       "    <tr>\n",
       "        <td>CENTER PEDS</td>\n",
       "        <td>100</td>\n",
       "    </tr>\n",
       "    <tr>\n",
       "        <td>MSC OR</td>\n",
       "        <td>98</td>\n",
       "    </tr>\n",
       "    <tr>\n",
       "        <td>CENTER</td>\n",
       "        <td>98</td>\n",
       "    </tr>\n",
       "    <tr>\n",
       "        <td>VISION OR</td>\n",
       "        <td>90</td>\n",
       "    </tr>\n",
       "</table>"
      ],
      "text/plain": [
       "[('MRH OR', 100),\n",
       " ('MRAH OR', 100),\n",
       " ('MASC OR', 100),\n",
       " ('CENTER PEDS', 100),\n",
       " ('MSC OR', 98),\n",
       " ('CENTER', 98),\n",
       " ('VISION OR', 90)]"
      ]
     },
     "execution_count": 4,
     "metadata": {},
     "output_type": "execute_result"
    }
   ],
   "source": [
    "%%sql \n",
    "SELECT location, (sum( CASE WHEN action = 'APPROVE_TRANSFER' THEN 1 ELSE 0 end )*100 /sum( CASE WHEN action = 'TRANSFER' then 1 ELSE 0 end)* 100)/ 100 AS percentage \n",
    "FROM exchange_transactions\n",
    "GROUP BY 1 \n",
    "ORDER BY 2 DESC"
   ]
  },
  {
   "cell_type": "code",
   "execution_count": 145,
   "id": "c6fda356",
   "metadata": {},
   "outputs": [
    {
     "name": "stdout",
     "output_type": "stream",
     "text": [
      " * sqlite:///LeanTaaSTestDB.db\n",
      "Done.\n"
     ]
    },
    {
     "data": {
      "text/html": [
       "<table>\n",
       "    <tr>\n",
       "        <th>month</th>\n",
       "        <th>action</th>\n",
       "        <th>count(distinct transaction_id )</th>\n",
       "    </tr>\n",
       "    <tr>\n",
       "        <td>01</td>\n",
       "        <td>APPROVE_REQUEST</td>\n",
       "        <td>2</td>\n",
       "    </tr>\n",
       "    <tr>\n",
       "        <td>01</td>\n",
       "        <td>APPROVE_TRANSFER</td>\n",
       "        <td>4</td>\n",
       "    </tr>\n",
       "    <tr>\n",
       "        <td>02</td>\n",
       "        <td>APPROVE_REQUEST</td>\n",
       "        <td>4</td>\n",
       "    </tr>\n",
       "    <tr>\n",
       "        <td>02</td>\n",
       "        <td>APPROVE_TRANSFER</td>\n",
       "        <td>14</td>\n",
       "    </tr>\n",
       "    <tr>\n",
       "        <td>03</td>\n",
       "        <td>APPROVE_REQUEST</td>\n",
       "        <td>18</td>\n",
       "    </tr>\n",
       "    <tr>\n",
       "        <td>03</td>\n",
       "        <td>APPROVE_TRANSFER</td>\n",
       "        <td>10</td>\n",
       "    </tr>\n",
       "    <tr>\n",
       "        <td>04</td>\n",
       "        <td>APPROVE_REQUEST</td>\n",
       "        <td>63</td>\n",
       "    </tr>\n",
       "    <tr>\n",
       "        <td>04</td>\n",
       "        <td>APPROVE_TRANSFER</td>\n",
       "        <td>21</td>\n",
       "    </tr>\n",
       "    <tr>\n",
       "        <td>05</td>\n",
       "        <td>APPROVE_REQUEST</td>\n",
       "        <td>243</td>\n",
       "    </tr>\n",
       "    <tr>\n",
       "        <td>05</td>\n",
       "        <td>APPROVE_TRANSFER</td>\n",
       "        <td>51</td>\n",
       "    </tr>\n",
       "    <tr>\n",
       "        <td>06</td>\n",
       "        <td>APPROVE_REQUEST</td>\n",
       "        <td>335</td>\n",
       "    </tr>\n",
       "    <tr>\n",
       "        <td>06</td>\n",
       "        <td>APPROVE_TRANSFER</td>\n",
       "        <td>71</td>\n",
       "    </tr>\n",
       "    <tr>\n",
       "        <td>07</td>\n",
       "        <td>APPROVE_REQUEST</td>\n",
       "        <td>322</td>\n",
       "    </tr>\n",
       "    <tr>\n",
       "        <td>07</td>\n",
       "        <td>APPROVE_TRANSFER</td>\n",
       "        <td>64</td>\n",
       "    </tr>\n",
       "    <tr>\n",
       "        <td>08</td>\n",
       "        <td>APPROVE_REQUEST</td>\n",
       "        <td>147</td>\n",
       "    </tr>\n",
       "    <tr>\n",
       "        <td>08</td>\n",
       "        <td>APPROVE_TRANSFER</td>\n",
       "        <td>21</td>\n",
       "    </tr>\n",
       "</table>"
      ],
      "text/plain": [
       "[('01', 'APPROVE_REQUEST', 2),\n",
       " ('01', 'APPROVE_TRANSFER', 4),\n",
       " ('02', 'APPROVE_REQUEST', 4),\n",
       " ('02', 'APPROVE_TRANSFER', 14),\n",
       " ('03', 'APPROVE_REQUEST', 18),\n",
       " ('03', 'APPROVE_TRANSFER', 10),\n",
       " ('04', 'APPROVE_REQUEST', 63),\n",
       " ('04', 'APPROVE_TRANSFER', 21),\n",
       " ('05', 'APPROVE_REQUEST', 243),\n",
       " ('05', 'APPROVE_TRANSFER', 51),\n",
       " ('06', 'APPROVE_REQUEST', 335),\n",
       " ('06', 'APPROVE_TRANSFER', 71),\n",
       " ('07', 'APPROVE_REQUEST', 322),\n",
       " ('07', 'APPROVE_TRANSFER', 64),\n",
       " ('08', 'APPROVE_REQUEST', 147),\n",
       " ('08', 'APPROVE_TRANSFER', 21)]"
      ]
     },
     "execution_count": 145,
     "metadata": {},
     "output_type": "execute_result"
    }
   ],
   "source": [
    "%%sql \n",
    "SELECT strftime('%m', created_datetime) as month, action, count(distinct transaction_id ) \n",
    "FROM exchange_transactions \n",
    "WHERE action = 'APPROVE_REQUEST' OR action = 'APPROVE_TRANSFER' \n",
    "GROUP BY 1,2"
   ]
  },
  {
   "cell_type": "markdown",
   "id": "ee699a76",
   "metadata": {},
   "source": [
    "Tableau visualization Adoption by Location"
   ]
  },
  {
   "cell_type": "markdown",
   "id": "77c94d56",
   "metadata": {},
   "source": [
    "##### Narration of the chart: \n",
    "\n",
    "- MRAH OR has 468 request approvals, the highest of all locations. The second is CENTER, with 277 approvals.\n",
    "- CENTER has the highest number of approved transfer, with a total of 125 cases. The nest is MSC OR, with 65 successful cases. \n",
    "- There weren't any approved transfer in MASC until August.\n",
    "- July is the month with most activities in MRAH and MASC.\n",
    "- June is the month with most activities in CENTER, MRH and MSC."
   ]
  },
  {
   "cell_type": "markdown",
   "id": "67b959f8",
   "metadata": {},
   "source": [
    "# Cohort analysis - opportunities to increase adoption\n",
    "\n",
    "- Which location has the lowest adoption, i.e. highest denial rate? \n",
    "- What kind of block (durationwise) has the least approval? (in general and location specific)\n",
    "\n",
    "#### Caution when using denial rate:\n",
    "A denial rate can result from one of the two scenarios below: \n",
    "1. OR scheduler reviewed the request and determined the change is not doable\n",
    "2. The original scheduler correcting a request they've created earlier by denying/cancelling the initial request. \n",
    "\n",
    "Case one is how we normally perceive a denial. Case two is not as common for there are only 89 transacions of such. Though not commone, it is important to raise awareness of case two for transparency. For the rest of the exercise, let's interpret all denial as explained in case one.  \n"
   ]
  },
  {
   "cell_type": "code",
   "execution_count": 217,
   "id": "7b6b443f",
   "metadata": {},
   "outputs": [],
   "source": [
    "# To find out about the 89 transactions of schedulers cancelling their initial request\n",
    "\n",
    "# %%sql\n",
    "# WITH cte AS (\n",
    "# SELECT at.*, et.scheduler AS or_scheduler, et.action AS or_action, et.created_datetime \n",
    "# FROM exchange_transactions at JOIN exchange_transactions et ON at.transaction_id = et.parent_transaction_id \n",
    "# )\n",
    "# SELECT * \n",
    "# FROM cte \n",
    "# WHERE scheduler = or_scheduler AND (action ='REQUEST' OR action = 'TRANSFER') \n",
    "# AND (or_action = 'DENY_TRANSFER' OR or_action = 'DENY_REQUEST')"
   ]
  },
  {
   "cell_type": "markdown",
   "id": "1f38df5f",
   "metadata": {},
   "source": [
    "#### Which location has the highest request denial rate? "
   ]
  },
  {
   "cell_type": "code",
   "execution_count": 179,
   "id": "c4213358",
   "metadata": {},
   "outputs": [
    {
     "name": "stdout",
     "output_type": "stream",
     "text": [
      " * sqlite:///LeanTaaSTestDB.db\n",
      "Done.\n"
     ]
    },
    {
     "data": {
      "text/html": [
       "<table>\n",
       "    <tr>\n",
       "        <th>location</th>\n",
       "        <th>percentage</th>\n",
       "    </tr>\n",
       "    <tr>\n",
       "        <td>CENTER PEDS</td>\n",
       "        <td>22</td>\n",
       "    </tr>\n",
       "    <tr>\n",
       "        <td>MSC OR</td>\n",
       "        <td>17</td>\n",
       "    </tr>\n",
       "    <tr>\n",
       "        <td>VISION OR</td>\n",
       "        <td>15</td>\n",
       "    </tr>\n",
       "    <tr>\n",
       "        <td>MRAH OR</td>\n",
       "        <td>15</td>\n",
       "    </tr>\n",
       "    <tr>\n",
       "        <td>MASC OR</td>\n",
       "        <td>14</td>\n",
       "    </tr>\n",
       "    <tr>\n",
       "        <td>MRH OR</td>\n",
       "        <td>12</td>\n",
       "    </tr>\n",
       "    <tr>\n",
       "        <td>CENTER</td>\n",
       "        <td>6</td>\n",
       "    </tr>\n",
       "</table>"
      ],
      "text/plain": [
       "[('CENTER PEDS', 22),\n",
       " ('MSC OR', 17),\n",
       " ('VISION OR', 15),\n",
       " ('MRAH OR', 15),\n",
       " ('MASC OR', 14),\n",
       " ('MRH OR', 12),\n",
       " ('CENTER', 6)]"
      ]
     },
     "execution_count": 179,
     "metadata": {},
     "output_type": "execute_result"
    }
   ],
   "source": [
    "%%sql \n",
    "SELECT location, (sum( CASE WHEN action = 'DENY_REQUEST' THEN 1 ELSE 0 end )*100 /sum( CASE WHEN action = 'REQUEST' then 1 ELSE 0 end)* 100)/ 100 AS percentage \n",
    "FROM exchange_transactions\n",
    "GROUP BY 1 \n",
    "ORDER BY 2 DESC"
   ]
  },
  {
   "cell_type": "markdown",
   "id": "501de31f",
   "metadata": {},
   "source": [
    "We have a viz for the query above. (Denial rate)\n",
    "\n",
    "#### Narration of the chart:\n",
    "\n",
    "- Request denial rate was straightly increasing for MRH.\n",
    "- Request denial rate temporarily increased in Aug for MSC.\n",
    "- Central PEDS has the highest request denial rate in June and July.\n",
    "- Request denial rates were decreaasing for all locations except for MRH and MSC."
   ]
  },
  {
   "cell_type": "markdown",
   "id": "850ccd54",
   "metadata": {},
   "source": [
    "#### Which location has the highest transfer denial rate? "
   ]
  },
  {
   "cell_type": "code",
   "execution_count": 192,
   "id": "86b62217",
   "metadata": {},
   "outputs": [
    {
     "name": "stdout",
     "output_type": "stream",
     "text": [
      " * sqlite:///LeanTaaSTestDB.db\n",
      "Done.\n"
     ]
    },
    {
     "data": {
      "text/html": [
       "<table>\n",
       "    <tr>\n",
       "        <th>COUNT( distinct location)</th>\n",
       "    </tr>\n",
       "    <tr>\n",
       "        <td>7</td>\n",
       "    </tr>\n",
       "</table>"
      ],
      "text/plain": [
       "[(7,)]"
      ]
     },
     "execution_count": 192,
     "metadata": {},
     "output_type": "execute_result"
    }
   ],
   "source": [
    "%%sql \n",
    "SELECT COUNT( distinct location) \n",
    "FROM exchange_transactions where action ='TRANSFER'"
   ]
  },
  {
   "cell_type": "code",
   "execution_count": 178,
   "id": "7c0f0f64",
   "metadata": {},
   "outputs": [
    {
     "name": "stdout",
     "output_type": "stream",
     "text": [
      " * sqlite:///LeanTaaSTestDB.db\n",
      "Done.\n"
     ]
    },
    {
     "data": {
      "text/html": [
       "<table>\n",
       "    <tr>\n",
       "        <th>location</th>\n",
       "        <th>percentage</th>\n",
       "    </tr>\n",
       "    <tr>\n",
       "        <td>CENTER</td>\n",
       "        <td>1</td>\n",
       "    </tr>\n",
       "    <tr>\n",
       "        <td>CENTER PEDS</td>\n",
       "        <td>0</td>\n",
       "    </tr>\n",
       "    <tr>\n",
       "        <td>MASC OR</td>\n",
       "        <td>0</td>\n",
       "    </tr>\n",
       "    <tr>\n",
       "        <td>MRAH OR</td>\n",
       "        <td>0</td>\n",
       "    </tr>\n",
       "    <tr>\n",
       "        <td>MRH OR</td>\n",
       "        <td>0</td>\n",
       "    </tr>\n",
       "    <tr>\n",
       "        <td>MSC OR</td>\n",
       "        <td>1</td>\n",
       "    </tr>\n",
       "    <tr>\n",
       "        <td>VISION OR</td>\n",
       "        <td>10</td>\n",
       "    </tr>\n",
       "</table>"
      ],
      "text/plain": [
       "[('CENTER', 1),\n",
       " ('CENTER PEDS', 0),\n",
       " ('MASC OR', 0),\n",
       " ('MRAH OR', 0),\n",
       " ('MRH OR', 0),\n",
       " ('MSC OR', 1),\n",
       " ('VISION OR', 10)]"
      ]
     },
     "execution_count": 178,
     "metadata": {},
     "output_type": "execute_result"
    }
   ],
   "source": [
    "%%sql \n",
    "SELECT location, (sum( CASE WHEN action = 'DENY_TRANSFER' THEN 1 ELSE 0 end )*100 /sum( CASE WHEN action = 'TRANSFER' then 1 ELSE 0 end )* 100) / 100 AS percentage \n",
    "FROM exchange_transactions\n",
    "GROUP BY 1 "
   ]
  },
  {
   "cell_type": "markdown",
   "id": "585912de",
   "metadata": {},
   "source": [
    "Only three out of seven locations encountered transfer denials, they are VISION, CENTER, and MSC."
   ]
  },
  {
   "cell_type": "markdown",
   "id": "01329f9d",
   "metadata": {},
   "source": [
    "#### What kind of blocks (durationwise) has the least approval? ( in general and location specific )"
   ]
  },
  {
   "cell_type": "markdown",
   "id": "24b7819f",
   "metadata": {},
   "source": [
    "A new variable is created to measure duration: block_cat\n",
    "- block_cat is calculated by grouping the duration of each associated block, where duration is computed by datediff('hour', end time, start time)"
   ]
  },
  {
   "cell_type": "code",
   "execution_count": 214,
   "id": "f3d4c108",
   "metadata": {},
   "outputs": [
    {
     "name": "stdout",
     "output_type": "stream",
     "text": [
      " * sqlite:///LeanTaaSTestDB.db\n",
      "Done.\n"
     ]
    },
    {
     "data": {
      "text/html": [
       "<table>\n",
       "    <tr>\n",
       "        <th>block_cat</th>\n",
       "        <th>No_of_transactions</th>\n",
       "    </tr>\n",
       "    <tr>\n",
       "        <td>3-5 hours</td>\n",
       "        <td>63</td>\n",
       "    </tr>\n",
       "    <tr>\n",
       "        <td>1-2 hours</td>\n",
       "        <td>55</td>\n",
       "    </tr>\n",
       "    <tr>\n",
       "        <td>2-3 hours</td>\n",
       "        <td>42</td>\n",
       "    </tr>\n",
       "    <tr>\n",
       "        <td>9 hours</td>\n",
       "        <td>5</td>\n",
       "    </tr>\n",
       "    <tr>\n",
       "        <td>6-8 hours</td>\n",
       "        <td>5</td>\n",
       "    </tr>\n",
       "    <tr>\n",
       "        <td>11 hours</td>\n",
       "        <td>4</td>\n",
       "    </tr>\n",
       "</table>"
      ],
      "text/plain": [
       "[('3-5 hours', 63),\n",
       " ('1-2 hours', 55),\n",
       " ('2-3 hours', 42),\n",
       " ('9 hours', 5),\n",
       " ('6-8 hours', 5),\n",
       " ('11 hours', 4)]"
      ]
     },
     "execution_count": 214,
     "metadata": {},
     "output_type": "execute_result"
    }
   ],
   "source": [
    "%%sql \n",
    "\n",
    "with cte as ( \n",
    "    SELECT *, \n",
    "        round((JULIANDAY(end_time)-JULIANDAY(start_time))*24,1) as block_duration\n",
    "    FROM exchange_transactions\n",
    "),\n",
    "cte_a as (\n",
    "    SELECT *, \n",
    "    case \n",
    "        when block_duration >=1 and block_duration <2 then '1-2 hours' \n",
    "        when block_duration >=2 and block_duration <3  then '2-3 hours' \n",
    "        when block_duration >=3 and block_duration <6 then '3-5 hours' \n",
    "        when block_duration >=6 and block_duration <=8 then '6-8 hours' \n",
    "        when block_duration >=9 and block_duration <10 then '9 hours'\n",
    "        when block_duration >=10 and block_duration <11 then '10 hours'\n",
    "        when block_duration >=11 and block_duration <12 then '11 hours'\n",
    "        when block_duration >=12 then '12 hours'\n",
    "        else 0\n",
    "    end as block_cat \n",
    "    FROM cte\n",
    "),\n",
    "cte_b as(\n",
    "    select at.*, cte_a.block_duration, cte_a.block_cat, cte_a.scheduler as or_scheduler, cte_a.action as or_action, cte_a.created_datetime \n",
    "    from exchange_transactions at join cte_a on at.transaction_id = cte_a.parent_transaction_id \n",
    ") \n",
    "\n",
    "\n",
    "SELECT block_cat, count(distinct transaction_id) as No_of_transactions\n",
    "FROM cte_b \n",
    "WHERE action = 'REQUEST' AND or_action = 'DENY_REQUEST'  \n",
    "GROUP BY 1 \n",
    "ORDER BY 2 DESC "
   ]
  },
  {
   "cell_type": "code",
   "execution_count": 266,
   "id": "7be94c2c",
   "metadata": {},
   "outputs": [
    {
     "name": "stdout",
     "output_type": "stream",
     "text": [
      " * sqlite:///LeanTaaSTestDB.db\n",
      "Done.\n"
     ]
    },
    {
     "data": {
      "text/html": [
       "<table>\n",
       "    <tr>\n",
       "        <th>location</th>\n",
       "        <th>block_cat</th>\n",
       "        <th>round(avg_hrs,2)</th>\n",
       "        <th>count</th>\n",
       "    </tr>\n",
       "    <tr>\n",
       "        <td>MRAH OR</td>\n",
       "        <td>1-2 hours</td>\n",
       "        <td>1.3</td>\n",
       "        <td>32</td>\n",
       "    </tr>\n",
       "    <tr>\n",
       "        <td>CENTER</td>\n",
       "        <td>3-5 hours</td>\n",
       "        <td>4.33</td>\n",
       "        <td>15</td>\n",
       "    </tr>\n",
       "    <tr>\n",
       "        <td>MASC OR</td>\n",
       "        <td>3-5 hours</td>\n",
       "        <td>3.94</td>\n",
       "        <td>9</td>\n",
       "    </tr>\n",
       "    <tr>\n",
       "        <td>MSC OR</td>\n",
       "        <td>2-3 hours</td>\n",
       "        <td>2.29</td>\n",
       "        <td>7</td>\n",
       "    </tr>\n",
       "    <tr>\n",
       "        <td>VISION OR</td>\n",
       "        <td>1-2 hours</td>\n",
       "        <td>1.07</td>\n",
       "        <td>7</td>\n",
       "    </tr>\n",
       "    <tr>\n",
       "        <td>MRH OR</td>\n",
       "        <td>3-5 hours</td>\n",
       "        <td>4.7</td>\n",
       "        <td>5</td>\n",
       "    </tr>\n",
       "    <tr>\n",
       "        <td>CENTER PEDS</td>\n",
       "        <td>3-5 hours</td>\n",
       "        <td>4.0</td>\n",
       "        <td>2</td>\n",
       "    </tr>\n",
       "</table>"
      ],
      "text/plain": [
       "[('MRAH OR', '1-2 hours', 1.3, 32),\n",
       " ('CENTER', '3-5 hours', 4.33, 15),\n",
       " ('MASC OR', '3-5 hours', 3.94, 9),\n",
       " ('MSC OR', '2-3 hours', 2.29, 7),\n",
       " ('VISION OR', '1-2 hours', 1.07, 7),\n",
       " ('MRH OR', '3-5 hours', 4.7, 5),\n",
       " ('CENTER PEDS', '3-5 hours', 4.0, 2)]"
      ]
     },
     "execution_count": 266,
     "metadata": {},
     "output_type": "execute_result"
    }
   ],
   "source": [
    "%%sql \n",
    "\n",
    "with cte as ( \n",
    "    SELECT *, \n",
    "        round((JULIANDAY(end_time)-JULIANDAY(start_time))*24,1) as block_duration\n",
    "    FROM exchange_transactions\n",
    "),\n",
    "cte_a as (\n",
    "    SELECT *, \n",
    "    case \n",
    "        when block_duration >=1 and block_duration <2 then '1-2 hours' \n",
    "        when block_duration >=2 and block_duration <3  then '2-3 hours' \n",
    "        when block_duration >=3 and block_duration <6 then '3-5 hours' \n",
    "        when block_duration >=6 and block_duration <=8 then '6-8 hours' \n",
    "        when block_duration >=9 and block_duration <10 then '9 hours'\n",
    "        when block_duration >=10 and block_duration <11 then '10 hours'\n",
    "        when block_duration >=11 and block_duration <12 then '11 hours'\n",
    "        when block_duration >=12 then '12 hours'\n",
    "        else 0\n",
    "    end as block_cat  \n",
    "    FROM cte\n",
    "),\n",
    "cte_b as(\n",
    "    select at.*, cte_a.block_duration, cte_a.block_cat, \n",
    "        cte_a.scheduler as or_scheduler, cte_a.action as or_action, \n",
    "        cte_a.created_datetime \n",
    "    from exchange_transactions at join cte_a on at.transaction_id = cte_a.parent_transaction_id \n",
    "), cte_c as(\n",
    "SELECT location, block_cat, \n",
    "    avg(block_duration) as avg_hrs, \n",
    "    count(distinct transaction_id) as count\n",
    "FROM cte_b \n",
    "WHERE action = 'REQUEST' \n",
    "    AND or_action = 'DENY_REQUEST'  \n",
    "GROUP BY 1,2 \n",
    ")\n",
    "SELECT location, block_cat, round(avg_hrs,2), count \n",
    "FROM (\n",
    "    SELECT  location, block_cat, count, avg_hrs , \n",
    "        rank() over (partition by location order by count desc)as rank \n",
    "    FROM cte_c  \n",
    ")\n",
    "WHERE rank = 1 \n",
    "ORDER BY count DESC"
   ]
  },
  {
   "cell_type": "markdown",
   "id": "864db551",
   "metadata": {},
   "source": [
    "In general, blocks with short duration are more likely to have their OR reqeusts denied in comparison to blocks with long duration. \n",
    "In MRAH, most of the block request denied lasted had a duration of 1-2 hours. In Center, most of the block request denied lasted had a duration of 3-5 hours."
   ]
  },
  {
   "cell_type": "markdown",
   "id": "ac70697f",
   "metadata": {},
   "source": [
    "We have a Tableau viz for the table above (Avg block duration by location)\n",
    "\n",
    "#### Narration of the chart:\n",
    "\n",
    "- All locations are consistent in having blocks of short duration being denied the most, where short is either from 1-2 hours, or from 3-5 hours.\n",
    "\n",
    "Note: there is a slight discrepeny between the average shown in the chart versus that in the table above."
   ]
  },
  {
   "cell_type": "markdown",
   "id": "255ed8ae",
   "metadata": {},
   "source": [
    "# Result and Summary\n",
    "\n",
    "Center has the highst adoption rate, measured by percentage of request approved - 90%. The next is MRH with 87% approval rate. \n",
    "\n",
    "On average, Central PEDS has the highest request denial rate at 22%. The second highest is MSC OR with 17%, followed by MRAH OR and VISION OR, both of which has a 15% request denial rate. Center has the lowest denial rate at 6%.\n",
    "On average, Vision has the highest transfer denial rate at 10%, followed by Center and MSC OR with 1% denial rate. \n",
    "\n",
    "Blocks with short durations, i.e. 1-2 hours, 3-5 hours, faced the most request denial. However, our dataset is insufficient for us to identify the \"Why\" of this pattern."
   ]
  },
  {
   "cell_type": "markdown",
   "id": "2ecface8",
   "metadata": {},
   "source": [
    "# Improvements and next steps\n",
    "\n",
    "#### We can certainly look at other cohorts to identify problematic areas in driving adoption:\n",
    "- How does the start time of a block relate to request denital or transfer denial?\n",
    "- What is the average time it takes for a request, a approve_transfer, or a approve_request to be marked Mark_Update? Any abnormalities in this can reveal potention issues  or failures with the platform. \n",
    "- Which surgeon had the most request denial? transfer denial? And why is that? \n",
    "- Is there any association between the time gap from transaction created date to snapshot date and request/transfer denial?  \n",
    "\n",
    "#### Other questions: \n",
    "- What is the customer's primary area of concern for identifying new opportunities? Which of the cohorts, mentioned or not alreay mentioned, would be valuable to investigate?  \n",
    "- What's special about VISION, CENTER, and MSC OR that lead to their transfer getting denied? Or would it be too early for us to point these three locations as problematic area given the limited data we have? \n",
    "\n",
    "\n",
    "\n",
    "# Limitations\n"
   ]
  },
  {
   "cell_type": "markdown",
   "id": "2e83300b",
   "metadata": {},
   "source": [
    "1.  It's crucial to understand the gap between the range of created date amd the range of snapshot date. Why were there no adjustments made to block schedules from January to May? Was this the intended usage of the Exchange platform? Just to target three months of the year?  \n",
    "    The reason for this phenomeon could support or overturn any month-over-month behavior or trend-related oberservations we've made so far.  \n",
    "    \n",
    " \n",
    "2. Our data contains transactions created from January to August only. A dataset of such a small size limits our abilities to capture potential hidden factors, seasonality,  or other seasonal-effects throughout the year, all of which could have an impact on the adoption rate of the new launch."
   ]
  }
 ],
 "metadata": {
  "kernelspec": {
   "display_name": "Python 3 (ipykernel)",
   "language": "python",
   "name": "python3"
  },
  "language_info": {
   "codemirror_mode": {
    "name": "ipython",
    "version": 3
   },
   "file_extension": ".py",
   "mimetype": "text/x-python",
   "name": "python",
   "nbconvert_exporter": "python",
   "pygments_lexer": "ipython3",
   "version": "3.9.13"
  },
  "vscode": {
   "interpreter": {
    "hash": "6b98ad43e29e010e89aff2311ec40c29ca74777c4b0c79d68ba34c3b7b72c3b3"
   }
  }
 },
 "nbformat": 4,
 "nbformat_minor": 5
}
